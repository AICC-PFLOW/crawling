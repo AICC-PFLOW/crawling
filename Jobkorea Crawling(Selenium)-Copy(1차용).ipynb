{
 "cells": [
  {
   "cell_type": "markdown",
   "id": "644c36ce",
   "metadata": {},
   "source": [
    "240520 현재 기업 구인 세부사항 크롤링 구문 완성...(오류시 예외문까지) 데이터 프레임 만들고 CSV파일 저장 후 데이터 적재구문 만들기. 이후 검색 조건 변경 계획"
   ]
  },
  {
   "cell_type": "markdown",
   "id": "a75a268d",
   "metadata": {},
   "source": [
    "## Today's mission\n",
    "\n",
    "- 잡코리아 데이터 수집\n",
    "- 잡코리아 셀레니움 웹크롤링   "
   ]
  },
  {
   "cell_type": "markdown",
   "id": "8c5b3ca9",
   "metadata": {},
   "source": [
    "# Jobkorea Crawling(Selenium) _ Project(No.1)"
   ]
  },
  {
   "cell_type": "markdown",
   "id": "5e40cc0b",
   "metadata": {},
   "source": [
    "Today's mission\n",
    "데이터 수집\n",
    "셀레니움 웹크롤링"
   ]
  },
  {
   "cell_type": "markdown",
   "id": "f0c27848",
   "metadata": {},
   "source": [
    "## 셀레니움 : 동적 크롤링\n",
    "\n",
    "좀 더 복잡한 형태의 데이터를 크롤링하기 위한 동적 크롤링 및 정규 표현식의 사용방법\n",
    "\n",
    "**참고 사이트**\n",
    "- https://kihome15.tistory.com/10\n",
    "- https://coding-shop.tistory.com/290?category=1235575\n",
    "- https://coding-shop.tistory.com/286?category=1235575\n",
    "\n",
    "\n",
    "### 동적 크롤링이란?\n",
    "\n",
    "- 일반적인 크롤링으로는 정적 데이터, 즉 변하지 않는 데이터만을 수집할 수 있다. \n",
    "- 한 페이지 안에서 원하는 정보가 모두 드러나는 것을 정적 데이터라 한다. \n",
    "\n",
    "- 반면 입력, 클릭, 로그인 등을 통해 데이터가 바뀌는 것을 동적 데이터라 한다. \n",
    "- 예를 들어 네이버 지도에서 매장을 검색을 한 후 좌측에서 원하는 선택할 때 마다 이에 해당하는 내용이 뜬다. \n",
    "\n",
    "이는 웹페이지에서 사용자가 클릭 등과 같은 조작을 하면 AJAX 호출이 발생하여 그 결과가 페이지의 일부분에만 반영되어 변경되기 때문이다. 즉 매장을 클릭하면 웹브라우저가 연결된 자바스크립트 코드를 실행하여 해당 매장의 상세 정보가 동일한 페이지에 동적으로 표시된다. 정적 페이지와 동적 페이지의 작동 방식의 차이를 나타낸다.\n",
    "\n",
    "셀레니움을 이용할 경우 정적 페이지와 동적 페이지를 모두 크롤링 할 수 있다는 강력함이 있지만, 상대적으로 속도가 느리다. 따라서 정적 페이지는 기존의 방법을 이용한 크롤링을, 동적 페이지는 셀레니움을 이용한 크롤링을 하는 것이 일반적이다.\n",
    "\n",
    "- 정적 크롤링과 동적 크롤링 비교\n",
    ":name: crawl_compare\n",
    "| 구분 | 정적 크롤링 | 동적 크롤링 |\n",
    "| --- | --- | --- |\n",
    "|사용 패키지\t|requests |\tselenium |\n",
    "|수집 커버리지 |정적 페이지 | 정적/동적 페이지 |\n",
    "| 수집 속도 | 빠름 (별도 페이지 조작 필요 X) | 상대적으로 느림 |\n",
    "| 파싱 패키지 | beautifulsoup | beautifulsoup / selenium |\n",
    "```\n",
    "\n",
    "셀레니움이란 다양한 브라우저(인터넷 익스플로러, 크롬, 사파리 오페라 등) 및 플랫폼에서 웹 응용 프로그램을 테스트할 수 있게 해주는 라이브러리다. 즉 웹 자동화 테스트 용도로 개발이 되었기에 실제 브라우저를 사용하며, 페이지가 변화하는 것도 관찰이 가능하기에 동적 크롤링에 사용할 수 있다."
   ]
  },
  {
   "cell_type": "code",
   "execution_count": 1,
   "id": "fac54be6",
   "metadata": {},
   "outputs": [
    {
     "name": "stdout",
     "output_type": "stream",
     "text": [
      "Requirement already satisfied: selenium in c:\\users\\ezen\\anaconda3\\lib\\site-packages (4.20.0)\n",
      "Requirement already satisfied: urllib3<3,>=1.26 in c:\\users\\ezen\\anaconda3\\lib\\site-packages (from urllib3[socks]<3,>=1.26->selenium) (1.26.9)\n",
      "Requirement already satisfied: trio~=0.17 in c:\\users\\ezen\\anaconda3\\lib\\site-packages (from selenium) (0.25.0)\n",
      "Requirement already satisfied: trio-websocket~=0.9 in c:\\users\\ezen\\anaconda3\\lib\\site-packages (from selenium) (0.11.1)\n",
      "Requirement already satisfied: certifi>=2021.10.8 in c:\\users\\ezen\\anaconda3\\lib\\site-packages (from selenium) (2021.10.8)\n",
      "Requirement already satisfied: typing_extensions>=4.9.0 in c:\\users\\ezen\\anaconda3\\lib\\site-packages (from selenium) (4.11.0)\n",
      "Requirement already satisfied: attrs>=23.2.0 in c:\\users\\ezen\\anaconda3\\lib\\site-packages (from trio~=0.17->selenium) (23.2.0)\n",
      "Requirement already satisfied: sortedcontainers in c:\\users\\ezen\\anaconda3\\lib\\site-packages (from trio~=0.17->selenium) (2.4.0)\n",
      "Requirement already satisfied: idna in c:\\users\\ezen\\anaconda3\\lib\\site-packages (from trio~=0.17->selenium) (3.3)\n",
      "Requirement already satisfied: outcome in c:\\users\\ezen\\anaconda3\\lib\\site-packages (from trio~=0.17->selenium) (1.3.0.post0)\n",
      "Requirement already satisfied: sniffio>=1.3.0 in c:\\users\\ezen\\anaconda3\\lib\\site-packages (from trio~=0.17->selenium) (1.3.1)\n",
      "Requirement already satisfied: cffi>=1.14 in c:\\users\\ezen\\anaconda3\\lib\\site-packages (from trio~=0.17->selenium) (1.15.0)\n",
      "Requirement already satisfied: exceptiongroup in c:\\users\\ezen\\anaconda3\\lib\\site-packages (from trio~=0.17->selenium) (1.2.1)\n",
      "Requirement already satisfied: wsproto>=0.14 in c:\\users\\ezen\\anaconda3\\lib\\site-packages (from trio-websocket~=0.9->selenium) (1.2.0)\n",
      "Requirement already satisfied: PySocks!=1.5.7,<2.0,>=1.5.6 in c:\\users\\ezen\\anaconda3\\lib\\site-packages (from urllib3[socks]<3,>=1.26->selenium) (1.7.1)\n",
      "Requirement already satisfied: pycparser in c:\\users\\ezen\\anaconda3\\lib\\site-packages (from cffi>=1.14->trio~=0.17->selenium) (2.21)\n",
      "Requirement already satisfied: h11<1,>=0.9.0 in c:\\users\\ezen\\anaconda3\\lib\\site-packages (from wsproto>=0.14->trio-websocket~=0.9->selenium) (0.14.0)\n",
      "Note: you may need to restart the kernel to use updated packages.\n"
     ]
    }
   ],
   "source": [
    "pip install selenium"
   ]
  },
  {
   "cell_type": "code",
   "execution_count": 2,
   "id": "757abb45",
   "metadata": {},
   "outputs": [
    {
     "name": "stdout",
     "output_type": "stream",
     "text": [
      "Requirement already satisfied: webdriver_manager in c:\\users\\ezen\\anaconda3\\lib\\site-packages (4.0.1)\n",
      "Requirement already satisfied: requests in c:\\users\\ezen\\anaconda3\\lib\\site-packages (from webdriver_manager) (2.27.1)\n",
      "Requirement already satisfied: python-dotenv in c:\\users\\ezen\\anaconda3\\lib\\site-packages (from webdriver_manager) (1.0.1)\n",
      "Requirement already satisfied: packaging in c:\\users\\ezen\\anaconda3\\lib\\site-packages (from webdriver_manager) (21.3)\n",
      "Requirement already satisfied: pyparsing!=3.0.5,>=2.0.2 in c:\\users\\ezen\\anaconda3\\lib\\site-packages (from packaging->webdriver_manager) (3.0.4)\n",
      "Requirement already satisfied: urllib3<1.27,>=1.21.1 in c:\\users\\ezen\\anaconda3\\lib\\site-packages (from requests->webdriver_manager) (1.26.9)\n",
      "Requirement already satisfied: certifi>=2017.4.17 in c:\\users\\ezen\\anaconda3\\lib\\site-packages (from requests->webdriver_manager) (2021.10.8)\n",
      "Requirement already satisfied: charset-normalizer~=2.0.0 in c:\\users\\ezen\\anaconda3\\lib\\site-packages (from requests->webdriver_manager) (2.0.4)\n",
      "Requirement already satisfied: idna<4,>=2.5 in c:\\users\\ezen\\anaconda3\\lib\\site-packages (from requests->webdriver_manager) (3.3)\n"
     ]
    }
   ],
   "source": [
    "# #### 패키지 먼저 설치 ######\n",
    "!pip install webdriver_manager"
   ]
  },
  {
   "cell_type": "code",
   "execution_count": 3,
   "id": "b46023c8",
   "metadata": {},
   "outputs": [],
   "source": [
    "# Chrome 웹 드라이버 다운로드 및 설치 후 실행\n",
    "# 설치한 selenium에서 webdriver를 import\n",
    "from selenium import webdriver\n",
    "from selenium.webdriver.chrome.service import Service\n",
    "from webdriver_manager.chrome import ChromeDriverManager\n",
    "from selenium.webdriver.common.by import By\n",
    "from selenium.webdriver.common.keys import Keys\n",
    "from selenium.webdriver.support.ui import WebDriverWait\n",
    "from selenium.webdriver.support import expected_conditions as EC\n",
    "from selenium.common.exceptions import NoSuchElementException, TimeoutException\n",
    "from selenium.common.exceptions import NoSuchElementException\n",
    "import time\n",
    "from bs4 import BeautifulSoup"
   ]
  },
  {
   "cell_type": "code",
   "execution_count": 4,
   "id": "45b6eca1",
   "metadata": {},
   "outputs": [],
   "source": [
    "# selenum의 webdriver에 앞서 설치한 chromedirver를 연동한다.\n",
    "driver = webdriver.Chrome(service=Service(ChromeDriverManager().install()))"
   ]
  },
  {
   "cell_type": "markdown",
   "id": "02eec4dc",
   "metadata": {},
   "source": [
    "`webdriver.Chrome(service=Service(ChromeDriverManager().install()))` 코드를 실행하면 크롬 브라우저의 버전을 탐색한 다음, 버전에 맞는 웹드라이버를 다운로드하여 해당 경로를 셀레니움에 전달해준다. 또한 `selenium_open`와 같이 크롬 창이 열리며, 좌측 상단에 'Chrome이 자동화된 테스트 소프트웨어에 의해 제어되고 있습니다.'라는 문구가 뜬다. 이제 파이썬 코드를 이용해 해당 페이지를 조작할 수 있다. "
   ]
  },
  {
   "cell_type": "code",
   "execution_count": 5,
   "id": "9669d690",
   "metadata": {},
   "outputs": [
    {
     "data": {
      "text/plain": [
       "'html lang=\"ko\"><head><script type=\"text/javascript\" async=\"\" src=\"https://www.googletagmanager.com/gtag/js?id=G-H72LM07GXG&amp;cx=c&amp;_slc=1\"></script><script src=\"https://teralog.techhub.co.kr/trk?la_tp=pv&amp;la_gc=TR10148105490&amp;la_uid=&amp;la_fid=06126d046ec7454edb6451eefe7b4d4a&amp;la_sid=&amp;la_infl=&amp;la_pa1=&amp;la_pa2=&amp;la_dccs=UTF-8&amp;la_r=1371972516&amp;la_crsd_gc=&amp;la_sv=59647be&amp;la_dcrf=&amp;la_dcurl=https%3A%2F%2Fwww.jobkorea.co.kr%2Frecruit%2Fjoblist%3Fmenucode%3Dduty&amp;la_dcttl=%EC%A7%81%EB%AC%B4%EB%B3%84%20%EC%B1%84%EC%9A%A9%EC%A0%95%EB%B3%B4%20%7C%20%EC%9E%A1%EC%BD%94%EB%A6%AC%EC%95%84&amp;la_ib=&amp;la_is=&amp;la_callback=_LA.CB\"></script><script src=\"https://teralog.techhub.co.kr/ckie\"></script><script async=\"\" src=\"https://connect.facebook.net/en_US/fbevents.js\"></script><script async=\"\" src=\"https://www.google-analytics.com/analytics.js\"></script><script src=\"https://sas.nsm-corp.com/sa-w.js?gc=TR10148105490&amp;rd=1716265507262\"></script><sc'"
      ]
     },
     "execution_count": 5,
     "metadata": {},
     "output_type": "execute_result"
    }
   ],
   "source": [
    "# 접속 사이트 주소 인식\n",
    "url = 'https://www.jobkorea.co.kr/recruit/joblist?menucode=duty'\n",
    "driver.get(url)\n",
    "driver.page_source[1:1000]"
   ]
  },
  {
   "cell_type": "markdown",
   "id": "9f94a5a9",
   "metadata": {},
   "source": [
    "`driver.get()` 내에 URL 주소를 입력하면 해당 주소로 이동한다. 또한 `driver.page_source`를 통해 열려있는 창의 HTML 코드를 확인할 수도 있다. 이제 잡코리아 메인에서 채용정보의 '산업별' 버튼을 누르는 동작을 실행해보자. 개발자도구 화면을 통해 확인해보면 '산업별'탭은 아래 HTML에 위치하고 있다."
   ]
  },
  {
   "cell_type": "code",
   "execution_count": 6,
   "id": "ddaa649f",
   "metadata": {},
   "outputs": [],
   "source": [
    "# 크롤링 할 직무 대단위 선택\n",
    "while True:\n",
    "    driver.find_element(By.XPATH, value = '//*[@id=\"devSearchForm\"]/div[2]/div/div[1]/dl[1]/dd[2]/div[2]/dl[1]/dd/div[1]/ul/li[6]/label/span/span').click()\n",
    "    driver.find_element(By.XPATH, value = '//*[@id=\"duty_step2_10031_ly\"]/li[14]/label/span/span').click()\n",
    "    driver.find_element(By.XPATH, value = '//*[@id=\"devSearchForm\"]/div[2]/div/div[1]/dl[2]/dt/p').click()\n",
    "    driver.find_element(By.XPATH, value = '//*[@id=\"devSearchForm\"]/div[2]/div/div[1]/dl[2]/dd[2]/div[2]/dl[1]/dd/div[1]/ul/li[1]/label/span/span').click()\n",
    "    driver.find_element(By.XPATH, value = '//*[@id=\"local_step2_I000_ly\"]/li[3]/label/span/span').click()\n",
    "    driver.find_element(By.XPATH, value = '//*[@id=\"local_step2_I000_ly\"]/li[9]/label/span/span').click()\n",
    "    driver.find_element(By.XPATH, value = '//*[@id=\"local_step2_I000_ly\"]/li[10]/label/span/span').click()\n",
    "    driver.find_element(By.XPATH, value = '//*[@id=\"local_step2_I000_ly\"]/li[17]/label/span/span').click()\n",
    "    driver.find_element(By.XPATH, value = '//*[@id=\"local_step2_I000_ly\"]/li[20]/label/span/span').click()\n",
    "    break"
   ]
  },
  {
   "cell_type": "markdown",
   "id": "fa533aec",
   "metadata": {},
   "source": [
    "- 브라우저 상에서 보이는 버튼, 검색창, 사진, 테이블, 동영상 등을 엘레먼트(element, 요소)라고 한다. \n",
    "- `find_element()`는 다양한 방법으로 엘레먼트에 접근하게 해주며, \n",
    "- `By.*` 를 통해 어떠한 방법으로 엘레먼트에 접근할지 선언한다. \n",
    "- LINK_TEXT의 경우 링크가 달려 있는 텍스트로 접근하며, \n",
    "- `value = '뉴스'`, 즉 뉴스라는 단어가 있는 엘레먼트로 접근한다. \n",
    "- `click()` 함수는 마우스 클릭을 실행하며 결과 적으로 뉴스 탭을 클릭한 후 페이지가 이동\n",
    "- `find_element()` 내 접근방법 및 셀레니움의 각종 동작 제어 방법에 대해서는 나중에 다시 정리하도록 한다.\n",
    "\n",
    "이제 해당 탭을 닫아보자."
   ]
  },
  {
   "cell_type": "code",
   "execution_count": null,
   "id": "0a341b72",
   "metadata": {
    "scrolled": false
   },
   "outputs": [],
   "source": [
    "# # 크롤링 할 세부 직무 소단위 다중 선택\n",
    "# for i in range(19):\n",
    "#     if i >= 1 and i <= 3 or i >= 6 and i <= 8 or i == 13:\n",
    "#         # 각 요소에 대한 XPath 문자열 생성\n",
    "#         xpath = f'//*[@id=\"duty_step2_10031_ly\"]/li[{i + 1}]/label/span/span'\n",
    "#         # XPath를 사용하여 해당 요소를 클릭\n",
    "#         driver.find_element(By.XPATH, value=xpath).click()\n",
    "#         print(xpath)\n",
    "#     else:\n",
    "#         pass"
   ]
  },
  {
   "cell_type": "code",
   "execution_count": 7,
   "id": "91809670",
   "metadata": {},
   "outputs": [],
   "source": [
    "# 검색 버튼 실행\n",
    "driver.find_element(By.XPATH, value = '//*[@id=\"dev-btn-search\"]/span').click()"
   ]
  },
  {
   "cell_type": "markdown",
   "id": "1ba02f6f",
   "metadata": {
    "scrolled": true
   },
   "source": [
    "# 전체 반복문 기본 구문\n",
    "\n",
    "title_list=[]      # 제목 리스트\n",
    "career_list = []   # 경력 리스트\n",
    "edu_list = []      # 학력 리스트\n",
    "em_type_list = []  # 고용형태 리스트\n",
    "pay_list = []      # 급여 리스트\n",
    "address_list = []  # 근무지 리스트\n",
    "\n",
    "\n",
    "# 다음페이지 클릭 실행\n",
    "repeat2=1\n",
    "while True:\n",
    "    repeat2 = repeat2 + 1\n",
    "    time.sleep(1)\n",
    "    # 페이지 내 회사 선택 for문 실행\n",
    "    for repeat1 in range(1,40):\n",
    "        if repeat1 == 2 :\n",
    "            continue\n",
    "        else:\n",
    "            try:\n",
    "                # 회사 선택\n",
    "                element = driver.find_element(By.XPATH, value=f'//*[@id=\"dev-gi-list\"]/div/div[5]/table/tbody/tr[{repeat1}]/td[2]/div/strong')\n",
    "                element.click()\n",
    "            except NoSuchElementException:\n",
    "                continue\n",
    "                time.sleep(3)\n",
    "            # 새창으로 커서 옮김\n",
    "            driver.switch_to.window(driver.window_handles[1])\n",
    "            time.sleep(2)\n",
    "            # 필요값 크롤링 & 리스트업\n",
    "            title = driver.find_element(By.XPATH, value = '//*[@id=\"container\"]/section/div[1]/article/div[1]/h3').text.split('\\n')[-1]\n",
    "            time.sleep(0.5)\n",
    "            career = driver.find_element(By.XPATH, value = '//*[@id=\"container\"]/section/div[1]/article/div[2]/div[1]/dl/dd[1]').text\n",
    "            time.sleep(0.5)\n",
    "            edu = driver.find_element(By.XPATH, value = '//*[@id=\"container\"]/section/div[1]/article/div[2]/div[1]/dl/dd[2]').text\n",
    "            time.sleep(0.5)\n",
    "            em_type = driver.find_element(By.XPATH, value = '//*[@id=\"container\"]/section/div[1]/article/div[2]/div[2]/dl/dd[1]/ul/li').text\n",
    "            time.sleep(0.5)\n",
    "            pay = driver.find_element(By.XPATH, value = '//*[@id=\"container\"]/section/div[1]/article/div[2]/div[2]/dl/dd[2]').text\n",
    "            time.sleep(0.5)\n",
    "            address = driver.find_element(By.XPATH, value = '//*[@id=\"container\"]/section/div[1]/article/div[2]/div[2]/dl/dd[3]/a').text\n",
    "            time.sleep(2)\n",
    "            title_list.append(title)\n",
    "            career_list.append(career)\n",
    "            edu_list.append(edu)\n",
    "            em_type_list.append(em_type)\n",
    "            pay_list.append(pay)\n",
    "            address_list.append(address)\n",
    "            time.sleep(3)\n",
    "            # 창 닫기\n",
    "            driver.close()\n",
    "            time.sleep(2)\n",
    "            # 원래 창으로 커서 옮김\n",
    "            driver.switch_to.window(driver.window_handles[0])\n",
    "            time.sleep(2)\n",
    "    # 페이지 내 검색 끝날 경우\n",
    "    if repeat2 > 1 and repeat2 < 11:\n",
    "        # 다음 페이지 클릭\n",
    "        driver.find_element(By.XPATH, value = f'//*[@id=\"dvGIPaging\"]/div/ul/li[{repeat2}]/a').click()\n",
    "        time.sleep(3)\n",
    "    # 10개 페이지 끝날 경우\n",
    "    elif repeat2 == 11:\n",
    "        # 다음 10개 페이지 중 첫번째 페이지로 이동\n",
    "        driver.find_element(By.XPATH, value = '//*[@id=\"dvGIPaging\"]/div/p/a').click()\n",
    "        repeat2=0\n",
    "        time.sleep(5)"
   ]
  },
  {
   "cell_type": "code",
   "execution_count": 8,
   "id": "83b66216",
   "metadata": {},
   "outputs": [
    {
     "name": "stdout",
     "output_type": "stream",
     "text": [
      "An error occurred: Message: \n",
      "Stacktrace:\n",
      "\tGetHandleVerifier [0x0052C113+48259]\n",
      "\t(No symbol) [0x004BCA41]\n",
      "\t(No symbol) [0x003B0A17]\n",
      "\t(No symbol) [0x003F0BED]\n",
      "\t(No symbol) [0x003F0C9B]\n",
      "\t(No symbol) [0x0042BC12]\n",
      "\t(No symbol) [0x00410DE4]\n",
      "\t(No symbol) [0x00429B9C]\n",
      "\t(No symbol) [0x00410B36]\n",
      "\t(No symbol) [0x003E570D]\n",
      "\t(No symbol) [0x003E62CD]\n",
      "\tGetHandleVerifier [0x007E65A3+2908435]\n",
      "\tGetHandleVerifier [0x00823BBB+3159851]\n",
      "\tGetHandleVerifier [0x005C50CB+674875]\n",
      "\tGetHandleVerifier [0x005CB28C+699900]\n",
      "\t(No symbol) [0x004C6244]\n",
      "\t(No symbol) [0x004C2298]\n",
      "\t(No symbol) [0x004C242C]\n",
      "\t(No symbol) [0x004B4BB0]\n",
      "\tBaseThreadInitThunk [0x75ADFA29+25]\n",
      "\tRtlGetAppContainerNamedObjectPath [0x770F75F4+228]\n",
      "\tRtlGetAppContainerNamedObjectPath [0x770F75C4+180]\n",
      "\n"
     ]
    },
    {
     "ename": "KeyboardInterrupt",
     "evalue": "",
     "output_type": "error",
     "traceback": [
      "\u001b[1;31m---------------------------------------------------------------------------\u001b[0m",
      "\u001b[1;31mTimeoutException\u001b[0m                          Traceback (most recent call last)",
      "Input \u001b[1;32mIn [8]\u001b[0m, in \u001b[0;36m<cell line: 20>\u001b[1;34m()\u001b[0m\n\u001b[0;32m     31\u001b[0m \u001b[38;5;28;01mtry\u001b[39;00m:\n\u001b[0;32m     32\u001b[0m     \u001b[38;5;66;03m# 회사 선택\u001b[39;00m\n\u001b[1;32m---> 33\u001b[0m     element \u001b[38;5;241m=\u001b[39m \u001b[43mWebDriverWait\u001b[49m\u001b[43m(\u001b[49m\u001b[43mdriver\u001b[49m\u001b[43m,\u001b[49m\u001b[43m \u001b[49m\u001b[38;5;241;43m10\u001b[39;49m\u001b[43m)\u001b[49m\u001b[38;5;241;43m.\u001b[39;49m\u001b[43muntil\u001b[49m\u001b[43m(\u001b[49m\n\u001b[0;32m     34\u001b[0m \u001b[43m        \u001b[49m\u001b[43mEC\u001b[49m\u001b[38;5;241;43m.\u001b[39;49m\u001b[43mpresence_of_element_located\u001b[49m\u001b[43m(\u001b[49m\u001b[43m(\u001b[49m\u001b[43mBy\u001b[49m\u001b[38;5;241;43m.\u001b[39;49m\u001b[43mXPATH\u001b[49m\u001b[43m,\u001b[49m\u001b[43m \u001b[49m\u001b[38;5;124;43mf\u001b[39;49m\u001b[38;5;124;43m'\u001b[39;49m\u001b[38;5;124;43m//*[@id=\u001b[39;49m\u001b[38;5;124;43m\"\u001b[39;49m\u001b[38;5;124;43mdev-gi-list\u001b[39;49m\u001b[38;5;124;43m\"\u001b[39;49m\u001b[38;5;124;43m]/div/div[5]/table/tbody/tr[\u001b[39;49m\u001b[38;5;132;43;01m{\u001b[39;49;00m\u001b[43mrepeat1\u001b[49m\u001b[38;5;132;43;01m}\u001b[39;49;00m\u001b[38;5;124;43m]/td[2]/div/strong\u001b[39;49m\u001b[38;5;124;43m'\u001b[39;49m\u001b[43m)\u001b[49m\u001b[43m)\u001b[49m\n\u001b[0;32m     35\u001b[0m \u001b[43m    \u001b[49m\u001b[43m)\u001b[49m\n\u001b[0;32m     36\u001b[0m     element\u001b[38;5;241m.\u001b[39mclick()\n",
      "File \u001b[1;32m~\\anaconda3\\lib\\site-packages\\selenium\\webdriver\\support\\wait.py:105\u001b[0m, in \u001b[0;36mWebDriverWait.until\u001b[1;34m(self, method, message)\u001b[0m\n\u001b[0;32m    104\u001b[0m         \u001b[38;5;28;01mbreak\u001b[39;00m\n\u001b[1;32m--> 105\u001b[0m \u001b[38;5;28;01mraise\u001b[39;00m TimeoutException(message, screen, stacktrace)\n",
      "\u001b[1;31mTimeoutException\u001b[0m: Message: \nStacktrace:\n\tGetHandleVerifier [0x0052C113+48259]\n\t(No symbol) [0x004BCA41]\n\t(No symbol) [0x003B0A17]\n\t(No symbol) [0x003F0BED]\n\t(No symbol) [0x003F0C9B]\n\t(No symbol) [0x0042BC12]\n\t(No symbol) [0x00410DE4]\n\t(No symbol) [0x00429B9C]\n\t(No symbol) [0x00410B36]\n\t(No symbol) [0x003E570D]\n\t(No symbol) [0x003E62CD]\n\tGetHandleVerifier [0x007E65A3+2908435]\n\tGetHandleVerifier [0x00823BBB+3159851]\n\tGetHandleVerifier [0x005C50CB+674875]\n\tGetHandleVerifier [0x005CB28C+699900]\n\t(No symbol) [0x004C6244]\n\t(No symbol) [0x004C2298]\n\t(No symbol) [0x004C242C]\n\t(No symbol) [0x004B4BB0]\n\tBaseThreadInitThunk [0x75ADFA29+25]\n\tRtlGetAppContainerNamedObjectPath [0x770F75F4+228]\n\tRtlGetAppContainerNamedObjectPath [0x770F75C4+180]\n",
      "\nDuring handling of the above exception, another exception occurred:\n",
      "\u001b[1;31mKeyboardInterrupt\u001b[0m                         Traceback (most recent call last)",
      "Input \u001b[1;32mIn [8]\u001b[0m, in \u001b[0;36m<cell line: 20>\u001b[1;34m()\u001b[0m\n\u001b[0;32m    128\u001b[0m url \u001b[38;5;241m=\u001b[39m \u001b[38;5;124m'\u001b[39m\u001b[38;5;124mhttps://www.jobkorea.co.kr/recruit/joblist?menucode=duty\u001b[39m\u001b[38;5;124m'\u001b[39m\n\u001b[0;32m    129\u001b[0m driver\u001b[38;5;241m.\u001b[39mget(url)\n\u001b[1;32m--> 130\u001b[0m \u001b[43mtime\u001b[49m\u001b[38;5;241;43m.\u001b[39;49m\u001b[43msleep\u001b[49m\u001b[43m(\u001b[49m\u001b[38;5;241;43m5\u001b[39;49m\u001b[43m)\u001b[49m\n\u001b[0;32m    131\u001b[0m \u001b[38;5;28;01mwhile\u001b[39;00m \u001b[38;5;28;01mTrue\u001b[39;00m:\n\u001b[0;32m    132\u001b[0m     driver\u001b[38;5;241m.\u001b[39mfind_element(By\u001b[38;5;241m.\u001b[39mXPATH, value \u001b[38;5;241m=\u001b[39m \u001b[38;5;124m'\u001b[39m\u001b[38;5;124m//*[@id=\u001b[39m\u001b[38;5;124m\"\u001b[39m\u001b[38;5;124mdevSearchForm\u001b[39m\u001b[38;5;124m\"\u001b[39m\u001b[38;5;124m]/div[2]/div/div[1]/dl[1]/dd[2]/div[2]/dl[1]/dd/div[1]/ul/li[6]/label/span/span\u001b[39m\u001b[38;5;124m'\u001b[39m)\u001b[38;5;241m.\u001b[39mclick()\n",
      "\u001b[1;31mKeyboardInterrupt\u001b[0m: "
     ]
    }
   ],
   "source": [
    "# 전체 반복문 오류 예외 뜨는 경우 종료후 재실행\n",
    "\n",
    "title_list=[]           # 제목 리스트\n",
    "company_list=[]         # 회사 이름\n",
    "career_list = []        # 경력 리스트\n",
    "edu_list = []           # 학력 리스트\n",
    "skill_list = []         # 스킬 리스트\n",
    "personality_list = []   # 역량 리스트\n",
    "em_type_list = []       # 고용형태 리스트\n",
    "pay_list = []           # 급여 리스트\n",
    "address_list = []       # 근무지 리스트\n",
    "detail_list = []        # 상세내용 리스트\n",
    "repeat2=1               # 10개 페이지 내 쪽수 순서\n",
    "rotate=0                # 10개 페이지 경과 횟수\n",
    "order=0                 # 1개 페이지 내 검색 순서\n",
    "page_num = 1            # 오류 발생시 기존 구동 연결 변수 1\n",
    "\n",
    "\n",
    "while True:\n",
    "    done=False          # 오류 발생시 기존 구동 연결 변수 2\n",
    "    try:\n",
    "        if done == False:\n",
    "            repeat2 = repeat2 + 1\n",
    "            time.sleep(1)\n",
    "            page_num=1\n",
    "            # 페이지 내 회사 선택 for문 실행(repeat1 : 1 페이지 내 검색 순서)\n",
    "            for repeat1 in range(page_num,40):\n",
    "                if repeat1 == 2 :\n",
    "                    continue\n",
    "                else:\n",
    "                    try:\n",
    "                        # 회사 선택\n",
    "                        element = WebDriverWait(driver, 10).until(\n",
    "                            EC.presence_of_element_located((By.XPATH, f'//*[@id=\"dev-gi-list\"]/div/div[5]/table/tbody/tr[{repeat1}]/td[2]/div/strong'))\n",
    "                        )\n",
    "                        element.click()\n",
    "                    except NoSuchElementException:\n",
    "                        continue\n",
    "                        time.sleep(3)\n",
    "                    # 새창으로 커서 옮김\n",
    "                    driver.switch_to.window(driver.window_handles[1])\n",
    "                    time.sleep(1.5)\n",
    "                    # 필요값 크롤링 & 리스트업\n",
    "                    title = driver.find_element(By.XPATH, value = '//*[@id=\"container\"]/section/div[1]/article/div[1]/h3').text.split('\\n')[-1]\n",
    "                    time.sleep(1.5)\n",
    "                    try:\n",
    "                        company = driver.find_element(By.XPATH, value = '//*[@id=\"container\"]/section/div[1]/article/div[1]/h3/div/span').text\n",
    "                    except NosuchElementException:\n",
    "                        company = None\n",
    "                    time.sleep(1.5)                    \n",
    "                    career = driver.find_element(By.XPATH, value = '//*[@id=\"container\"]/section/div[1]/article/div[2]/div[1]/dl/dd[1]').text\n",
    "                    time.sleep(1.5)\n",
    "                    edu = driver.find_element(By.XPATH, value = '//*[@id=\"container\"]/section/div[1]/article/div[2]/div[1]/dl/dd[2]').text\n",
    "                    time.sleep(1.5)\n",
    "                    try:\n",
    "                        skill = driver.find_element(By.XPATH, value = '//*[@id=\"container\"]/section/div[1]/article/div[2]/div[1]/dl/dd[3]').text\n",
    "                    except NoSuchElementException:\n",
    "                        skill = None\n",
    "                        time.sleep(2)\n",
    "                    try:\n",
    "                        personality = driver.find_element(By.XPATH, value = '//*[@id=\"container\"]/section/div[1]/article/div[2]/div[1]/dl/dd[4]').text\n",
    "                    except NoSuchElementException:\n",
    "                        personality = None\n",
    "                        time.sleep(2)\n",
    "                    em_type = driver.find_element(By.XPATH, value = '//*[@id=\"container\"]/section/div[1]/article/div[2]/div[2]/dl/dd[1]/ul/li').text\n",
    "                    time.sleep(1.5)\n",
    "                    pay = driver.find_element(By.XPATH, value = '//*[@id=\"container\"]/section/div[1]/article/div[2]/div[2]/dl/dd[2]').text\n",
    "                    time.sleep(1.5)\n",
    "                    address = driver.find_element(By.XPATH, value = '//*[@id=\"container\"]/section/div[1]/article/div[2]/div[2]/dl/dd[3]/a').text\n",
    "                    time.sleep(1.5)\n",
    "                    try:\n",
    "                        detail = driver.find_element(By.XPATH, value = '//*[@id=\"dev-template-v2-root\"]/div[2]').text\n",
    "                    except NoSuchElementException:\n",
    "                        detail = None\n",
    "                        time.sleep(2)\n",
    "                    title_list.append(title)\n",
    "                    if company:\n",
    "                        company_list.append(company)\n",
    "                    else:\n",
    "                        company_list.append(None)\n",
    "                    career_list.append(career)\n",
    "                    edu_list.append(edu)\n",
    "                    if skill:\n",
    "                        skill_list.append(skill)\n",
    "                    else:\n",
    "                        skill_list.append(None)\n",
    "                    if personality:\n",
    "                        personality_list.append(personality)\n",
    "                    else:\n",
    "                        personality_list.append(None)\n",
    "                    em_type_list.append(em_type)\n",
    "                    pay_list.append(pay)\n",
    "                    address_list.append(address)\n",
    "                    if detail:\n",
    "                        detail_list.append(detail)\n",
    "                    else:\n",
    "                        detail_list.append(None)\n",
    "                    time.sleep(3)\n",
    "                    # 창 닫기\n",
    "                    driver.close()\n",
    "                    time.sleep(3)\n",
    "                    # 원래 창으로 커서 옮김\n",
    "                    driver.switch_to.window(driver.window_handles[0])\n",
    "                    time.sleep(3)\n",
    "                    order = order + 1\n",
    "                    if page_num == 40:\n",
    "                        done=False\n",
    "            # 페이지 내 검색 끝날 경우\n",
    "            if repeat2 > 1 and repeat2 < 11:\n",
    "                # 다음 페이지 클릭\n",
    "                driver.find_element(By.XPATH, value = f'//*[@id=\"dvGIPaging\"]/div/ul/li[{repeat2}]/a').click()\n",
    "                order = 0\n",
    "                time.sleep(3)\n",
    "            # 10개 페이지 끝날 경우\n",
    "            elif repeat2 == 11:\n",
    "                # 다음 10개 페이지 중 첫번째 페이지로 이동\n",
    "                driver.find_element(By.XPATH, value = '//*[@id=\"dvGIPaging\"]/div/p/a').click()\n",
    "                rotate = totate + 1\n",
    "                order = 0\n",
    "                repeat2=0\n",
    "                time.sleep(5)\n",
    "    except Exception as e:\n",
    "        print(f\"An error occurred: {e}\")\n",
    "        driver.quit()\n",
    "        time.sleep(2)\n",
    "        driver = webdriver.Chrome(service=Service(ChromeDriverManager().install()))\n",
    "        time.sleep(2)\n",
    "        url = 'https://www.jobkorea.co.kr/recruit/joblist?menucode=duty'\n",
    "        driver.get(url)\n",
    "        time.sleep(5)\n",
    "        while True:\n",
    "            driver.find_element(By.XPATH, value = '//*[@id=\"devSearchForm\"]/div[2]/div/div[1]/dl[1]/dd[2]/div[2]/dl[1]/dd/div[1]/ul/li[6]/label/span/span').click()\n",
    "            driver.find_element(By.XPATH, value = '//*[@id=\"duty_step2_10031_ly\"]/li[14]/label/span/span').click()\n",
    "            driver.find_element(By.XPATH, value = '//*[@id=\"devSearchForm\"]/div[2]/div/div[1]/dl[2]/dt/p').click()\n",
    "            driver.find_element(By.XPATH, value = '//*[@id=\"devSearchForm\"]/div[2]/div/div[1]/dl[2]/dd[2]/div[2]/dl[1]/dd/div[1]/ul/li[1]/label/span/span').click()\n",
    "            driver.find_element(By.XPATH, value = '//*[@id=\"local_step2_I000_ly\"]/li[3]/label/span/span').click()\n",
    "            driver.find_element(By.XPATH, value = '//*[@id=\"local_step2_I000_ly\"]/li[9]/label/span/span').click()\n",
    "            driver.find_element(By.XPATH, value = '//*[@id=\"local_step2_I000_ly\"]/li[10]/label/span/span').click()\n",
    "            driver.find_element(By.XPATH, value = '//*[@id=\"local_step2_I000_ly\"]/li[17]/label/span/span').click()\n",
    "            driver.find_element(By.XPATH, value = '//*[@id=\"local_step2_I000_ly\"]/li[20]/label/span/span').click()\n",
    "            break\n",
    "        # 검색 버튼 실행\n",
    "        driver.find_element(By.XPATH, value = '//*[@id=\"dev-btn-search\"]/span').click()\n",
    "        done = True\n",
    "        page_num = repeat1\n",
    "        # 진행중인 페이지 이동\n",
    "        continue"
   ]
  },
  {
   "cell_type": "code",
   "execution_count": 9,
   "id": "a46deb17",
   "metadata": {},
   "outputs": [
    {
     "data": {
      "text/plain": [
       "180"
      ]
     },
     "execution_count": 9,
     "metadata": {},
     "output_type": "execute_result"
    }
   ],
   "source": [
    "len(title_list)"
   ]
  },
  {
   "cell_type": "code",
   "execution_count": 10,
   "id": "6f19dc5f",
   "metadata": {},
   "outputs": [
    {
     "data": {
      "text/plain": [
       "180"
      ]
     },
     "execution_count": 10,
     "metadata": {},
     "output_type": "execute_result"
    }
   ],
   "source": [
    "len(company_list)"
   ]
  },
  {
   "cell_type": "code",
   "execution_count": 11,
   "id": "01d801d6",
   "metadata": {},
   "outputs": [
    {
     "data": {
      "text/plain": [
       "180"
      ]
     },
     "execution_count": 11,
     "metadata": {},
     "output_type": "execute_result"
    }
   ],
   "source": [
    "len(career_list)"
   ]
  },
  {
   "cell_type": "code",
   "execution_count": 12,
   "id": "a510e793",
   "metadata": {},
   "outputs": [
    {
     "data": {
      "text/plain": [
       "180"
      ]
     },
     "execution_count": 12,
     "metadata": {},
     "output_type": "execute_result"
    }
   ],
   "source": [
    "len(edu_list)"
   ]
  },
  {
   "cell_type": "code",
   "execution_count": 13,
   "id": "79164e77",
   "metadata": {},
   "outputs": [
    {
     "data": {
      "text/plain": [
       "180"
      ]
     },
     "execution_count": 13,
     "metadata": {},
     "output_type": "execute_result"
    }
   ],
   "source": [
    "len(skill_list)"
   ]
  },
  {
   "cell_type": "code",
   "execution_count": 14,
   "id": "ef24f84c",
   "metadata": {},
   "outputs": [
    {
     "data": {
      "text/plain": [
       "180"
      ]
     },
     "execution_count": 14,
     "metadata": {},
     "output_type": "execute_result"
    }
   ],
   "source": [
    "len(personality_list)"
   ]
  },
  {
   "cell_type": "code",
   "execution_count": 15,
   "id": "2aee48fa",
   "metadata": {},
   "outputs": [
    {
     "data": {
      "text/plain": [
       "180"
      ]
     },
     "execution_count": 15,
     "metadata": {},
     "output_type": "execute_result"
    }
   ],
   "source": [
    "len(em_type_list)"
   ]
  },
  {
   "cell_type": "code",
   "execution_count": 16,
   "id": "18012e0e",
   "metadata": {},
   "outputs": [
    {
     "data": {
      "text/plain": [
       "180"
      ]
     },
     "execution_count": 16,
     "metadata": {},
     "output_type": "execute_result"
    }
   ],
   "source": [
    "len(pay_list)"
   ]
  },
  {
   "cell_type": "code",
   "execution_count": 17,
   "id": "4389731f",
   "metadata": {},
   "outputs": [
    {
     "data": {
      "text/plain": [
       "180"
      ]
     },
     "execution_count": 17,
     "metadata": {},
     "output_type": "execute_result"
    }
   ],
   "source": [
    "len(address_list)"
   ]
  },
  {
   "cell_type": "code",
   "execution_count": 18,
   "id": "e5f89d5e",
   "metadata": {},
   "outputs": [
    {
     "data": {
      "text/plain": [
       "180"
      ]
     },
     "execution_count": 18,
     "metadata": {},
     "output_type": "execute_result"
    }
   ],
   "source": [
    "len(detail_list)"
   ]
  },
  {
   "cell_type": "code",
   "execution_count": 19,
   "id": "ea68206f",
   "metadata": {},
   "outputs": [],
   "source": [
    "#!pip install pymysql\n",
    "import pandas as pd\n",
    "import pymysql\n",
    "import numpy as np"
   ]
  },
  {
   "cell_type": "code",
   "execution_count": 30,
   "id": "482dbe26",
   "metadata": {},
   "outputs": [],
   "source": [
    "address_list = [item[-3:] for item in address_list]"
   ]
  },
  {
   "cell_type": "code",
   "execution_count": 31,
   "id": "4c7e20b8",
   "metadata": {},
   "outputs": [
    {
     "data": {
      "text/plain": [
       "['금천구',\n",
       " '금천구',\n",
       " '종로구',\n",
       " '종로구',\n",
       " '종로구',\n",
       " '서초구',\n",
       " '강남구',\n",
       " '서초구',\n",
       " '금천구',\n",
       " '강남구',\n",
       " '강남구',\n",
       " '강서구',\n",
       " '송파구',\n",
       " '강남구',\n",
       " '강남구',\n",
       " '금천구',\n",
       " '금천구',\n",
       " '금천구',\n",
       " '강남구',\n",
       " '강남구',\n",
       " '강남구',\n",
       " '강남구',\n",
       " '강남구',\n",
       " '마포구',\n",
       " '강남구',\n",
       " '강서구',\n",
       " '관악구',\n",
       " '원주시',\n",
       " '강남구',\n",
       " '강남구',\n",
       " '강남구',\n",
       " '강남구',\n",
       " '송파구',\n",
       " '강남구',\n",
       " '강남구',\n",
       " '강남구',\n",
       " '금천구',\n",
       " '강남구',\n",
       " '강남구',\n",
       " '서초구',\n",
       " '강남구',\n",
       " '서초구',\n",
       " '금천구',\n",
       " '송파구',\n",
       " '강남구',\n",
       " '금천구',\n",
       " '강남구',\n",
       " '서초구',\n",
       " '서초구',\n",
       " '강서구',\n",
       " '강남구',\n",
       " '강남구',\n",
       " '강남구',\n",
       " '서초구',\n",
       " '서초구',\n",
       " '강남구',\n",
       " '송파구',\n",
       " '송파구',\n",
       " '강남구',\n",
       " '강남구',\n",
       " '서초구',\n",
       " '강남구',\n",
       " '강남구',\n",
       " '송파구',\n",
       " '강남구',\n",
       " '강남구',\n",
       " '강남구',\n",
       " '송파구',\n",
       " '구로구',\n",
       " '강남구',\n",
       " '강남구',\n",
       " '구로구',\n",
       " '금천구',\n",
       " '강남구',\n",
       " '강남구',\n",
       " '강남구',\n",
       " '금천구',\n",
       " '금천구',\n",
       " '강남구',\n",
       " '강남구',\n",
       " '구로구',\n",
       " '서초구',\n",
       " '서초구',\n",
       " '구로구',\n",
       " '강남구',\n",
       " '구로구',\n",
       " '송파구',\n",
       " '강남구',\n",
       " '서초구',\n",
       " '강남구',\n",
       " '서초구',\n",
       " '강남구',\n",
       " '금천구',\n",
       " '서초구',\n",
       " '강남구',\n",
       " '금천구',\n",
       " '강남구',\n",
       " '강남구',\n",
       " '금천구',\n",
       " '송파구',\n",
       " '강남구',\n",
       " '금천구',\n",
       " '강남구',\n",
       " '강남구',\n",
       " '서초구',\n",
       " '강남구',\n",
       " '구로구',\n",
       " '구로구',\n",
       " '서초구',\n",
       " '서초구',\n",
       " '금천구',\n",
       " '강남구',\n",
       " '강남구',\n",
       " '강남구',\n",
       " '금천구',\n",
       " '강남구',\n",
       " '금천구',\n",
       " '금천구',\n",
       " '금천구',\n",
       " '구로구',\n",
       " '강남구',\n",
       " '강남구',\n",
       " '구로구',\n",
       " '송파구',\n",
       " '강남구',\n",
       " '강남구',\n",
       " '구로구',\n",
       " '구로구',\n",
       " '서초구',\n",
       " '송파구',\n",
       " '강남구',\n",
       " '서초구',\n",
       " '서초구',\n",
       " '강남구',\n",
       " '강남구',\n",
       " '서초구',\n",
       " '강남구',\n",
       " '서초구',\n",
       " '서초구',\n",
       " '강남구',\n",
       " '구로구',\n",
       " '송파구',\n",
       " '강남구',\n",
       " '강남구',\n",
       " '강남구',\n",
       " '강남구',\n",
       " '금천구',\n",
       " '금천구',\n",
       " '강남구',\n",
       " '서초구',\n",
       " '강남구',\n",
       " '구로구',\n",
       " '구로구',\n",
       " '강남구',\n",
       " '금천구',\n",
       " '강남구',\n",
       " '강남구',\n",
       " '서초구',\n",
       " '구로구',\n",
       " '구로구',\n",
       " '금천구',\n",
       " '구로구',\n",
       " '서초구',\n",
       " '금천구',\n",
       " '강남구',\n",
       " '강남구',\n",
       " '서초구',\n",
       " '강남구',\n",
       " '금천구',\n",
       " '강남구',\n",
       " '강남구',\n",
       " '강남구',\n",
       " '강남구',\n",
       " '금천구',\n",
       " '강남구',\n",
       " '강남구',\n",
       " '강남구',\n",
       " '분당구',\n",
       " '전지역',\n",
       " '마포구']"
      ]
     },
     "execution_count": 31,
     "metadata": {},
     "output_type": "execute_result"
    }
   ],
   "source": [
    "address_list"
   ]
  },
  {
   "cell_type": "code",
   "execution_count": 32,
   "id": "68ad3873",
   "metadata": {
    "scrolled": true
   },
   "outputs": [
    {
     "data": {
      "text/html": [
       "<div>\n",
       "<style scoped>\n",
       "    .dataframe tbody tr th:only-of-type {\n",
       "        vertical-align: middle;\n",
       "    }\n",
       "\n",
       "    .dataframe tbody tr th {\n",
       "        vertical-align: top;\n",
       "    }\n",
       "\n",
       "    .dataframe thead th {\n",
       "        text-align: right;\n",
       "    }\n",
       "</style>\n",
       "<table border=\"1\" class=\"dataframe\">\n",
       "  <thead>\n",
       "    <tr style=\"text-align: right;\">\n",
       "      <th></th>\n",
       "      <th>Company</th>\n",
       "      <th>Title</th>\n",
       "      <th>Career</th>\n",
       "      <th>Skill</th>\n",
       "      <th>URL</th>\n",
       "      <th>InfoDetails</th>\n",
       "      <th>Tag</th>\n",
       "      <th>D_day</th>\n",
       "    </tr>\n",
       "    <tr>\n",
       "      <th>Address</th>\n",
       "      <th></th>\n",
       "      <th></th>\n",
       "      <th></th>\n",
       "      <th></th>\n",
       "      <th></th>\n",
       "      <th></th>\n",
       "      <th></th>\n",
       "      <th></th>\n",
       "    </tr>\n",
       "  </thead>\n",
       "  <tbody>\n",
       "    <tr>\n",
       "      <th>금천구</th>\n",
       "      <td>㈜바올테크</td>\n",
       "      <td>각 분야별 신입경력 모집 (영업부/기술지원부/연구개발부)</td>\n",
       "      <td>신입·경력</td>\n",
       "      <td>성실성, 윤리의식, 적응성</td>\n",
       "      <td>학력무관 분야별 상이</td>\n",
       "      <td>기본우대 운전가능자 우대전공 전산학·컴퓨터공학\\n더보기</td>\n",
       "      <td>정규직 수습기간협의</td>\n",
       "      <td>회사내규에 따름 - 면접 후 결정</td>\n",
       "    </tr>\n",
       "    <tr>\n",
       "      <th>금천구</th>\n",
       "      <td>㈜에듀클라우드</td>\n",
       "      <td>2024 상반기 공개채용(마케팅/영업/CS/개발/사업기획/영어강사)</td>\n",
       "      <td>신입·경력</td>\n",
       "      <td>계획성, 협동심, 꼼꼼함, 적응성</td>\n",
       "      <td>학력무관</td>\n",
       "      <td>None</td>\n",
       "      <td>정규직 수습 3개월</td>\n",
       "      <td>회사내규에 따름 - 면접 후 결정</td>\n",
       "    </tr>\n",
       "    <tr>\n",
       "      <th>종로구</th>\n",
       "      <td>㈜케이티</td>\n",
       "      <td>AI 혁신 우수인재 채용 [DATA분야]</td>\n",
       "      <td>신입·경력 (3년이상) 직무별상이</td>\n",
       "      <td>C++, JAVA, Kafka, Python, R, Spark, SQL, Hive, DL</td>\n",
       "      <td>대졸이상</td>\n",
       "      <td>성실성, 꼼꼼함, 협동심</td>\n",
       "      <td>정규직</td>\n",
       "      <td>회사내규에 따름 - 면접 후 결정</td>\n",
       "    </tr>\n",
       "    <tr>\n",
       "      <th>종로구</th>\n",
       "      <td>㈜케이티</td>\n",
       "      <td>AI 혁신 우수인재 채용 [AI분야]</td>\n",
       "      <td>경력 (3년이상) 직무별상이</td>\n",
       "      <td>AWS, C, C++, JAVA, Python</td>\n",
       "      <td>대졸이상</td>\n",
       "      <td>계획성, 성실성, 꼼꼼함</td>\n",
       "      <td>정규직</td>\n",
       "      <td>회사내규에 따름 - 면접 후 결정</td>\n",
       "    </tr>\n",
       "    <tr>\n",
       "      <th>종로구</th>\n",
       "      <td>㈜케이티</td>\n",
       "      <td>AI 혁신 우수인재 채용 [IT분야]</td>\n",
       "      <td>신입·경력 (3년이상) 직무별상이</td>\n",
       "      <td>JAVA, JSP, MSA, NoSQL, Spring, SQL, Spring Fra...</td>\n",
       "      <td>대졸이상</td>\n",
       "      <td>성실성, 협동심, 계획성, 꼼꼼함, 창의성</td>\n",
       "      <td>정규직</td>\n",
       "      <td>회사내규에 따름 - 면접 후 결정</td>\n",
       "    </tr>\n",
       "    <tr>\n",
       "      <th>...</th>\n",
       "      <td>...</td>\n",
       "      <td>...</td>\n",
       "      <td>...</td>\n",
       "      <td>...</td>\n",
       "      <td>...</td>\n",
       "      <td>...</td>\n",
       "      <td>...</td>\n",
       "      <td>...</td>\n",
       "    </tr>\n",
       "    <tr>\n",
       "      <th>강남구</th>\n",
       "      <td>마크클라우드</td>\n",
       "      <td>특허/상표 데이터 등 분석(Python) 및 사업 기획 신규/경력 모집 - 정규직</td>\n",
       "      <td>신입·경력</td>\n",
       "      <td>Python</td>\n",
       "      <td>대졸이상</td>\n",
       "      <td>None</td>\n",
       "      <td>정규직</td>\n",
       "      <td>회사내규에 따름 - 면접 후 결정</td>\n",
       "    </tr>\n",
       "    <tr>\n",
       "      <th>강남구</th>\n",
       "      <td>㈜에이콘아카데미</td>\n",
       "      <td>[IT취업연계과정]JAVA/프론트엔드/풀스택/백엔드 자바개발자취업교육과정/ IT취업...</td>\n",
       "      <td>신입·경력</td>\n",
       "      <td>CSS, HTML, JAVA, Javascript, SQL, 풀스택, 자바스크립트,...</td>\n",
       "      <td>고졸이상</td>\n",
       "      <td>계획성, 성실성, 꼼꼼함</td>\n",
       "      <td>연수생/교육생 근무기간 6개월</td>\n",
       "      <td>회사내규에 따름</td>\n",
       "    </tr>\n",
       "    <tr>\n",
       "      <th>분당구</th>\n",
       "      <td>㈜세종교육</td>\n",
       "      <td>[IT취업률100프로]AIoT/AWS/풀스택개발(무료숙식교육/비전공자가능/수도권기숙...</td>\n",
       "      <td>신입</td>\n",
       "      <td>None</td>\n",
       "      <td>학력무관</td>\n",
       "      <td>None</td>\n",
       "      <td>연수생/교육생 근무기간 6개월</td>\n",
       "      <td>회사내규에 따름 - 면접 후 결정</td>\n",
       "    </tr>\n",
       "    <tr>\n",
       "      <th>전지역</th>\n",
       "      <td>동대문여성인력개발센터</td>\n",
       "      <td>[국비지원 무료교육] 챗GPT(AI) 마케팅 실무 훈련생 모집</td>\n",
       "      <td>신입</td>\n",
       "      <td>None</td>\n",
       "      <td>초대졸이상</td>\n",
       "      <td>None</td>\n",
       "      <td>연수생/교육생 근무기간협의</td>\n",
       "      <td>회사내규에 따름 - 면접 후 결정</td>\n",
       "    </tr>\n",
       "    <tr>\n",
       "      <th>마포구</th>\n",
       "      <td>한국ICT인재개발원</td>\n",
       "      <td>[국비무료IT취업교육]JAVA웹앱/프론트엔드/백엔드/풀스택/빅데이터/인공지능 외 자...</td>\n",
       "      <td>신입·경력</td>\n",
       "      <td>AWS, Git, Hadoop, JAVA, MyBatis, MySQL, Oracle...</td>\n",
       "      <td>고졸이상</td>\n",
       "      <td>None</td>\n",
       "      <td>연수생/교육생 근무기간 6개월</td>\n",
       "      <td>회사내규에 따름</td>\n",
       "    </tr>\n",
       "  </tbody>\n",
       "</table>\n",
       "<p>180 rows × 8 columns</p>\n",
       "</div>"
      ],
      "text/plain": [
       "             Company                                              Title  \\\n",
       "Address                                                                   \n",
       "금천구            ㈜바올테크                    각 분야별 신입경력 모집 (영업부/기술지원부/연구개발부)   \n",
       "금천구          ㈜에듀클라우드              2024 상반기 공개채용(마케팅/영업/CS/개발/사업기획/영어강사)   \n",
       "종로구             ㈜케이티                             AI 혁신 우수인재 채용 [DATA분야]   \n",
       "종로구             ㈜케이티                               AI 혁신 우수인재 채용 [AI분야]   \n",
       "종로구             ㈜케이티                               AI 혁신 우수인재 채용 [IT분야]   \n",
       "...              ...                                                ...   \n",
       "강남구           마크클라우드      특허/상표 데이터 등 분석(Python) 및 사업 기획 신규/경력 모집 - 정규직   \n",
       "강남구         ㈜에이콘아카데미  [IT취업연계과정]JAVA/프론트엔드/풀스택/백엔드 자바개발자취업교육과정/ IT취업...   \n",
       "분당구            ㈜세종교육  [IT취업률100프로]AIoT/AWS/풀스택개발(무료숙식교육/비전공자가능/수도권기숙...   \n",
       "전지역      동대문여성인력개발센터                 [국비지원 무료교육] 챗GPT(AI) 마케팅 실무 훈련생 모집   \n",
       "마포구       한국ICT인재개발원  [국비무료IT취업교육]JAVA웹앱/프론트엔드/백엔드/풀스택/빅데이터/인공지능 외 자...   \n",
       "\n",
       "                     Career  \\\n",
       "Address                       \n",
       "금천구                   신입·경력   \n",
       "금천구                   신입·경력   \n",
       "종로구      신입·경력 (3년이상) 직무별상이   \n",
       "종로구         경력 (3년이상) 직무별상이   \n",
       "종로구      신입·경력 (3년이상) 직무별상이   \n",
       "...                     ...   \n",
       "강남구                   신입·경력   \n",
       "강남구                   신입·경력   \n",
       "분당구                      신입   \n",
       "전지역                      신입   \n",
       "마포구                   신입·경력   \n",
       "\n",
       "                                                     Skill          URL  \\\n",
       "Address                                                                   \n",
       "금천구                                         성실성, 윤리의식, 적응성  학력무관 분야별 상이   \n",
       "금천구                                     계획성, 협동심, 꼼꼼함, 적응성         학력무관   \n",
       "종로구      C++, JAVA, Kafka, Python, R, Spark, SQL, Hive, DL         대졸이상   \n",
       "종로구                              AWS, C, C++, JAVA, Python         대졸이상   \n",
       "종로구      JAVA, JSP, MSA, NoSQL, Spring, SQL, Spring Fra...         대졸이상   \n",
       "...                                                    ...          ...   \n",
       "강남구                                                 Python         대졸이상   \n",
       "강남구      CSS, HTML, JAVA, Javascript, SQL, 풀스택, 자바스크립트,...         고졸이상   \n",
       "분당구                                                   None         학력무관   \n",
       "전지역                                                   None        초대졸이상   \n",
       "마포구      AWS, Git, Hadoop, JAVA, MyBatis, MySQL, Oracle...         고졸이상   \n",
       "\n",
       "                            InfoDetails               Tag               D_day  \n",
       "Address                                                                        \n",
       "금천구      기본우대 운전가능자 우대전공 전산학·컴퓨터공학\\n더보기        정규직 수습기간협의  회사내규에 따름 - 면접 후 결정  \n",
       "금천구                                None        정규직 수습 3개월  회사내규에 따름 - 면접 후 결정  \n",
       "종로구                       성실성, 꼼꼼함, 협동심               정규직  회사내규에 따름 - 면접 후 결정  \n",
       "종로구                       계획성, 성실성, 꼼꼼함               정규직  회사내규에 따름 - 면접 후 결정  \n",
       "종로구             성실성, 협동심, 계획성, 꼼꼼함, 창의성               정규직  회사내규에 따름 - 면접 후 결정  \n",
       "...                                 ...               ...                 ...  \n",
       "강남구                                None               정규직  회사내규에 따름 - 면접 후 결정  \n",
       "강남구                       계획성, 성실성, 꼼꼼함  연수생/교육생 근무기간 6개월            회사내규에 따름  \n",
       "분당구                                None  연수생/교육생 근무기간 6개월  회사내규에 따름 - 면접 후 결정  \n",
       "전지역                                None    연수생/교육생 근무기간협의  회사내규에 따름 - 면접 후 결정  \n",
       "마포구                                None  연수생/교육생 근무기간 6개월            회사내규에 따름  \n",
       "\n",
       "[180 rows x 8 columns]"
      ]
     },
     "execution_count": 32,
     "metadata": {},
     "output_type": "execute_result"
    }
   ],
   "source": [
    "data = {'Company':company_list, 'Title':title_list, 'Career':career_list, 'Skill':skill_list, 'Address':address_list, 'URL':edu_list, 'InfoDetails':personality_list, 'Tag':em_type_list, 'D_day':pay_list}\n",
    "df = pd.DataFrame(data)\n",
    "df.set_index('Address', inplace=True)\n",
    "df"
   ]
  },
  {
   "cell_type": "code",
   "execution_count": 33,
   "id": "996b593f",
   "metadata": {},
   "outputs": [],
   "source": [
    "df.to_csv('data/Jobkorea_crawling_list_raw.csv', sep=\",\", encoding='cp949')"
   ]
  },
  {
   "cell_type": "code",
   "execution_count": null,
   "id": "f6e9129a",
   "metadata": {},
   "outputs": [],
   "source": [
    "#### 아래 실행 전 테이블 삭제\n",
    "def db_delete():\n",
    "    import pymysql\n",
    "    # MariaDB 연결\n",
    "    conn = pymysql.connect(host='127.0.0.1', user='user', password='user1234', db='dbmaria', charset='utf8')\n",
    "    # 커서 생성\n",
    "    cur = conn.cursor()\n",
    "    # User 테이블 생성 (nameUser에 UNIQUE 제약 추가)\n",
    "    cur.execute('''DROP TABLE user''')\n",
    "    # 변경사항 커밋\n",
    "    conn.commit()\n",
    "    # 연결 종료\n",
    "    conn.close()"
   ]
  },
  {
   "cell_type": "code",
   "execution_count": null,
   "id": "997cffc1",
   "metadata": {},
   "outputs": [],
   "source": [
    "##############################\n",
    "# ChatGPT 활용 및 테이블 생성\n",
    "##############################\n",
    "# 파이썬 데이터프레임을 maria db에 적재하기 위한 테이블 생성문을 작성해줘 ... \n",
    "# 다음 데이터프레임 정보를 참고해서...\n",
    "# CREATE TABLE idv_stocks(\n",
    "# \tuser_id VARCHAR(50),\n",
    "# \tstocks_id VARCHAR(10),\n",
    "# \tstocks_name VARCHAR(30),\n",
    "# \tins_date DATETIME,\n",
    "# \tPRIMARY KEY (user_id, stocks_id)\n",
    "# );\n",
    "\n",
    "# CREATE TABLE IF NOT EXISTS gu_real_estate3 (\n",
    "#     transaction_id INT AUTO_INCREMENT,\n",
    "#     transaction_amount VARCHAR(255),\n",
    "#     transaction_type VARCHAR(255),\n",
    "#     construction_year VARCHAR(255),\n",
    "#     year INT,\n",
    "#     dong VARCHAR(255),\n",
    "#     registration_date VARCHAR(255),\n",
    "#     seller VARCHAR(255),\n",
    "#     buyer VARCHAR(255),\n",
    "#     legal_dong VARCHAR(255),\n",
    "#     apartment_name VARCHAR(255),\n",
    "#     month INT,\n",
    "#     day INT,\n",
    "#     exclusive_area FLOAT,\n",
    "#     broker_location VARCHAR(255),\n",
    "#     jibun VARCHAR(255),\n",
    "#     region_code INT,\n",
    "#     floor INT,\n",
    "#     cancellation_reason_date VARCHAR(255),\n",
    "#     cancellation_yn VARCHAR(255),\n",
    "#     GU_id VARCHAR(255),\n",
    "#     YM_id VARCHAR(255),\n",
    "#     PRIMARY KEY (transaction_id, GU_id, YM_id)\n",
    "# );"
   ]
  },
  {
   "cell_type": "code",
   "execution_count": null,
   "id": "467d8409",
   "metadata": {},
   "outputs": [],
   "source": [
    "import pymysql\n",
    "# MariaDB 연결\n",
    "conn = pymysql.connect(host='127.0.0.1', port=3306, user='user', password='user1234', db='dbmaria', charset='utf8')\n",
    "# 커서 생성\n",
    "cur = conn.cursor()\n",
    "# User 테이블 생성 (nameUser에 UNIQUE 제약 추가)\n",
    "cur.execute('''CREATE TABLE IF NOT EXISTS user (\n",
    "                nameUser VARCHAR(255) PRIMARY KEY,\n",
    "                ageUser INTEGER,\n",
    "                phoneUser VARCHAR(20)\n",
    "            )''')\n",
    "# 삽입할 데이터\n",
    "data_list = [\n",
    "    ('user1', 25, '010-0123-4567'),\n",
    "    ('user2', 30, '010-1234-5678'),\n",
    "    ('user3', 35, '010-2345-6789'),\n",
    "    ('user4', 40, '010-3456-7890'),\n",
    "    ('user5', 66, '010-3676-7230')\n",
    "]\n",
    "# 데이터 삽입\n",
    "# # 데이터 프레임의 데이터를 데이터베이스에 삽입\n",
    "for index, row in df.iterrows():\n",
    "    cur.execute(\"\"\"\n",
    "        INSERT INTO gu_real_estate3 (\n",
    "            transaction_amount,\n",
    "            transaction_type,\n",
    "            construction_year,\n",
    "            year,\n",
    "            dong,\n",
    "            registration_date,\n",
    "            seller,\n",
    "            buyer,\n",
    "            legal_dong,\n",
    "            apartment_name,\n",
    "            month,\n",
    "            day,\n",
    "            exclusive_area,\n",
    "            broker_location,\n",
    "            jibun,\n",
    "            region_code,\n",
    "            floor,\n",
    "            cancellation_reason_date,\n",
    "            cancellation_yn,\n",
    "            GU_id,\n",
    "            YM_id\n",
    "        ) VALUES (%s, %s, %s, %s, %s, %s, %s, %s, %s, %s, %s, %s, %s, %s, %s, %s, %s, %s, %s, %s, %s)\n",
    "    \"\"\", (\n",
    "        row['거래금액'],\n",
    "        row['거래유형'],\n",
    "        row['건축년도'],\n",
    "        row['년'],\n",
    "        row['동'],\n",
    "        row['등기일자'],\n",
    "        row['매도자'],\n",
    "        row['매수자'],\n",
    "        row['법정동'],\n",
    "        row['아파트'],\n",
    "        row['월'],\n",
    "        row['일'],\n",
    "        row['전용면적'],\n",
    "        row['중개사소재지'],\n",
    "        row['지번'],\n",
    "        row['지역코드'],\n",
    "        row['층'],\n",
    "        row['해제사유발생일'],\n",
    "        row['해제여부'],\n",
    "        row['GU'],\n",
    "        row['YM']\n",
    "    ))\n",
    "cur.executemany(sql, data_list)\n",
    "# 변경사항 커밋\n",
    "conn.commit()\n",
    "# 연결 종료\n",
    "conn.close()"
   ]
  },
  {
   "cell_type": "code",
   "execution_count": null,
   "id": "c866212b",
   "metadata": {},
   "outputs": [],
   "source": [
    "import pymysql\n",
    "conn = pymysql.connect(host='127.0.0.1', user='user', password='user1234', db='dbmaria', charset='utf8')\n",
    "cur = conn.cursor()\n",
    "sql = \"SELECT * FROM user\"\n",
    "cur.execute(sql)\n",
    "results = cur.fetchall()\n",
    "for i in results:\n",
    "    print(i[0] + \" / \" + str(i[1]) + \" / \" + i[2])\n",
    "conn.close()"
   ]
  },
  {
   "cell_type": "code",
   "execution_count": null,
   "id": "db9a82c8",
   "metadata": {},
   "outputs": [],
   "source": []
  }
 ],
 "metadata": {
  "kernelspec": {
   "display_name": "Python 3 (ipykernel)",
   "language": "python",
   "name": "python3"
  },
  "language_info": {
   "codemirror_mode": {
    "name": "ipython",
    "version": 3
   },
   "file_extension": ".py",
   "mimetype": "text/x-python",
   "name": "python",
   "nbconvert_exporter": "python",
   "pygments_lexer": "ipython3",
   "version": "3.9.12"
  }
 },
 "nbformat": 4,
 "nbformat_minor": 5
}
